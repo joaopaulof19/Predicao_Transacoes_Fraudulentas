{
  "nbformat": 4,
  "nbformat_minor": 0,
  "metadata": {
    "colab": {
      "provenance": [],
      "include_colab_link": true
    },
    "kernelspec": {
      "name": "python3",
      "display_name": "Python 3"
    }
  },
  "cells": [
    {
      "cell_type": "markdown",
      "metadata": {
        "id": "view-in-github",
        "colab_type": "text"
      },
      "source": [
        "<a href=\"https://colab.research.google.com/github/joaopaulof19/Predicao_Transacoes_Fraudulentas/blob/main/Projeto_Detec%C3%A7%C3%A3o_de_Fraude_em_Cart%C3%B5es_de_Cr%C3%A9dito.ipynb\" target=\"_parent\"><img src=\"https://colab.research.google.com/assets/colab-badge.svg\" alt=\"Open In Colab\"/></a>"
      ]
    },
    {
      "cell_type": "markdown",
      "metadata": {
        "id": "IR56trFcPcC1"
      },
      "source": [
        "***\n",
        "***\n",
        "# **Detecção de Fraudes em Cartões de Crédito** 💳\n",
        "\n",
        "\n",
        "\n",
        "***\n",
        "***\n",
        "Neste projeto, iremos abordar o problema das fraudes em cartões de crédito, uma das principais preocupações das instituições financeiras como bancos e *fintechs*. Para se ter uma ideia, 2,8 milhões de tentativas de fraudes em cartões de crédito ocorreram apenas no primeiro semestre do ano de 2022. Número de golpes é 8% maior em comparação ao mesmo período de 2021. É estimado que cerca de 1/3 dos brasileiros já foram vítimas de fraude com cartão de crédito, segundo pesquisas da <a href=\"https://itforum.com.br/noticias/um-terco-dos-brasileiros-ja-foi-vitima-de-fraude-com-cartao-de-credito-diz-ibm/\">IBM</a>.\n",
        "\n",
        "\n",
        "Apenas no Brasil, cerca de 12,1 milhões de pessoas já foram vítimas de algum tipo de fraude financeira no último ano. Traduzindo em valores, os golpes financeiros ultrapassaram a cifra de R$ 1,8 bilhão de prejuízo por ano para os últimos 12 meses.\n",
        "\n",
        "<p align=center>\n",
        "<img src=\"https://cdn-icons-png.flaticon.com/512/5677/5677024.png\" width=\"30%\"></p>\n",
        "\n",
        "Essas fraudes envolvendo cartões de crédito são de grande relevância, uma vez que a sua não-detecção acarretará em prejuízos consideráveis, tanto para o consumidor quanto para a instituição financeira.\n",
        "\n",
        "Um outro fator a ser considerado é a quantidade de falsos positivos, ou seja, aquelas vezes em que você tentou fazer uma compra e teve seu cartão bloqueado preventivamente - o que provavelmente gerou estresse e constrangimento.\n",
        "\n",
        "Por todos esses motivos, o investimento na área de detecção de fraudes por meio de Inteligência Artificial vem crescendo a cada ano, representando uma grande oportunidade em *Data Science*. \n",
        "\n",
        "Dispondo de grandes volumes de dados como base histórica, um algoritmo de machine learning apenas um pouco melhor que os anteriores já representa uma economia de milhões de Reais(ou qualquer outra moeda 💵). E esse é o desafio, aprimorar cada vez mais o uso de algoritmos visando inibir ou evitar transações fraudulentas."
      ]
    },
    {
      "cell_type": "markdown",
      "metadata": {
        "id": "0HVmpIxQWT4Y"
      },
      "source": [
        "***\n",
        "***\n",
        "## **Importando os Dados** <img src=\"https://cdn-icons-png.flaticon.com/512/6079/6079229.png\" width=\"3%\">\n",
        "***\n",
        "***\n",
        "O conjunto de dados contém transações feitas por cartões de crédito em setembro de 2013 por titulares de cartões europeus.\n",
        "Este conjunto de dados apresenta transações ocorridas em dois dias, onde temos 492 fraudes em 284.807 transações. O conjunto de dados é altamente desbalanceado, a classe positiva (fraudes) responde por 0.173% de todas as transações. \n",
        "\n",
        "\n",
        "Outro detalhe interessante é que as *features* são todas numéricas, e foram descaracterizadas (por problemas ligados à privacidade e segurança. Assim, os nomes das colunas são representados por $[V1, V2, V3 \\dots, V28]$ \n",
        "\n",
        "<p align=center>\n",
        "<img src=\"https://cdn-icons-png.flaticon.com/512/7562/7562797.png\" width=\"30%\"></p>\n",
        "\n",
        "\n",
        "\n",
        "[Na página original dos dados](https://www.kaggle.com/mlg-ulb/creditcardfraud), também é informado que as variáveis passaram por uma transformação conhecida como Análise de Componentes Principais (*Principal Component Analysis* - PCA).\n",
        "\n",
        "A PCA permite a redução da dimensionalidade enquanto mantém o maior número possível de informações. Para conseguir isso, o algoritmo encontra um conjunto novo de recursos - os chamados **componentes**.\n",
        "\n",
        "Esses componentes são em número menor ou igual às variáveis originais. No caso deste projeto, os componentes achados pela transformação da PCA são as próprias colunas $[V1, V2, V3 \\dots, V28]$. As únicas características que não foram transformadas com PCA são 'Time' e 'Amount', além de também nossa variável alvo 'Class'.\n",
        "\n",
        "  \n",
        "\n",
        "*   O recurso 'Time' contém os segundos decorridos entre cada transação e a primeira transação no conjunto de dados.\n",
        "*   O recurso 'Amount' é o valor da transação, esse recurso pode ser usado para aprendizado sensível ao custo dependente de exemplo. \n",
        "*   A característica 'Class' é a variável de resposta e assume valor 1 em caso de fraude e 0 caso contrário.\n",
        " \n",
        " \n"
      ]
    },
    {
      "cell_type": "code",
      "source": [
        "# instalar a biblioteca scikit-plot\n",
        "!pip install -q scikit-plot"
      ],
      "metadata": {
        "id": "Sm-eN8r79OcB"
      },
      "execution_count": null,
      "outputs": []
    },
    {
      "cell_type": "code",
      "metadata": {
        "id": "oQ4bNy7udtEE"
      },
      "source": [
        "# importar os pacotes necessários\n",
        "import matplotlib.pyplot as plt\n",
        "import numpy as np\n",
        "import pandas as pd\n",
        "import seaborn as sns\n",
        "import scikitplot as skplt\n",
        "\n",
        "from imblearn.under_sampling import RandomUnderSampler\n",
        "from sklearn.ensemble import RandomForestClassifier\n",
        "from sklearn.svm import SVC\n",
        "from sklearn.metrics import classification_report\n",
        "from sklearn.metrics import confusion_matrix, roc_auc_score, roc_curve, accuracy_score\n",
        "from sklearn.model_selection import KFold, cross_val_score\n",
        "from sklearn.model_selection import train_test_split\n",
        "from sklearn.pipeline import Pipeline\n",
        "from sklearn.preprocessing import StandardScaler\n",
        "from xgboost import XGBClassifier\n",
        "\n"
      ],
      "execution_count": null,
      "outputs": []
    },
    {
      "cell_type": "code",
      "metadata": {
        "id": "4NxUOfDOj2j8"
      },
      "source": [
        "file_path = \"https://www.dropbox.com/s/b44o3t3ehmnx2b7/creditcard.csv?dl=1\"\n",
        "\n",
        "# importar os dados para um dataframe\n",
        "df = pd.read_csv(file_path)"
      ],
      "execution_count": null,
      "outputs": []
    },
    {
      "cell_type": "markdown",
      "metadata": {
        "id": "7nF_Dhd81Cvq"
      },
      "source": [
        "Com os dados importados para dentro de uma estrutura *Dataframe* - e não havendo a necessidade de mais nenhum ajuste ou configuração nesta etapa, pode-se iniciar uma análise exploratória dos dados a fim de preparar um modelo de *Machine Learning*."
      ]
    },
    {
      "cell_type": "markdown",
      "metadata": {
        "id": "8UtXyZ6stlSM"
      },
      "source": [
        "***\n",
        "***\n",
        "## **Análise Exploratória** 📊📈 \n",
        "***\n",
        "***\n"
      ]
    },
    {
      "cell_type": "markdown",
      "source": [
        "Para iniciar, vamos verificar o formato dos dados que vamo trabalhar. Outra coisa que é importante. é verificarmos se nossa base de dados contém valores ausentes para fazer o devido tratamento para não prejudicar nossa análise e nem nosso treinamento. Como podemos ver, nenhum dado faltante 🙂"
      ],
      "metadata": {
        "id": "HTDJet2xgezd"
      }
    },
    {
      "cell_type": "code",
      "source": [
        "# 5 primeiras entradas\n",
        "display(df.head())\n",
        "# verificação de nulos\n",
        "print(df.isnull().sum())"
      ],
      "metadata": {
        "colab": {
          "base_uri": "https://localhost:8080/",
          "height": 855
        },
        "id": "HmZs8dLyqkF9",
        "outputId": "45571e7b-3531-4a5d-8921-4f732fb84a41"
      },
      "execution_count": null,
      "outputs": [
        {
          "output_type": "display_data",
          "data": {
            "text/plain": [
              "   Time        V1        V2        V3        V4        V5        V6        V7  \\\n",
              "0   0.0 -1.359807 -0.072781  2.536347  1.378155 -0.338321  0.462388  0.239599   \n",
              "1   0.0  1.191857  0.266151  0.166480  0.448154  0.060018 -0.082361 -0.078803   \n",
              "2   1.0 -1.358354 -1.340163  1.773209  0.379780 -0.503198  1.800499  0.791461   \n",
              "3   1.0 -0.966272 -0.185226  1.792993 -0.863291 -0.010309  1.247203  0.237609   \n",
              "4   2.0 -1.158233  0.877737  1.548718  0.403034 -0.407193  0.095921  0.592941   \n",
              "\n",
              "         V8        V9  ...       V21       V22       V23       V24       V25  \\\n",
              "0  0.098698  0.363787  ... -0.018307  0.277838 -0.110474  0.066928  0.128539   \n",
              "1  0.085102 -0.255425  ... -0.225775 -0.638672  0.101288 -0.339846  0.167170   \n",
              "2  0.247676 -1.514654  ...  0.247998  0.771679  0.909412 -0.689281 -0.327642   \n",
              "3  0.377436 -1.387024  ... -0.108300  0.005274 -0.190321 -1.175575  0.647376   \n",
              "4 -0.270533  0.817739  ... -0.009431  0.798278 -0.137458  0.141267 -0.206010   \n",
              "\n",
              "        V26       V27       V28  Amount  Class  \n",
              "0 -0.189115  0.133558 -0.021053  149.62      0  \n",
              "1  0.125895 -0.008983  0.014724    2.69      0  \n",
              "2 -0.139097 -0.055353 -0.059752  378.66      0  \n",
              "3 -0.221929  0.062723  0.061458  123.50      0  \n",
              "4  0.502292  0.219422  0.215153   69.99      0  \n",
              "\n",
              "[5 rows x 31 columns]"
            ],
            "text/html": [
              "\n",
              "  <div id=\"df-67f5bc66-eeff-48d6-867f-eef423c2ea21\">\n",
              "    <div class=\"colab-df-container\">\n",
              "      <div>\n",
              "<style scoped>\n",
              "    .dataframe tbody tr th:only-of-type {\n",
              "        vertical-align: middle;\n",
              "    }\n",
              "\n",
              "    .dataframe tbody tr th {\n",
              "        vertical-align: top;\n",
              "    }\n",
              "\n",
              "    .dataframe thead th {\n",
              "        text-align: right;\n",
              "    }\n",
              "</style>\n",
              "<table border=\"1\" class=\"dataframe\">\n",
              "  <thead>\n",
              "    <tr style=\"text-align: right;\">\n",
              "      <th></th>\n",
              "      <th>Time</th>\n",
              "      <th>V1</th>\n",
              "      <th>V2</th>\n",
              "      <th>V3</th>\n",
              "      <th>V4</th>\n",
              "      <th>V5</th>\n",
              "      <th>V6</th>\n",
              "      <th>V7</th>\n",
              "      <th>V8</th>\n",
              "      <th>V9</th>\n",
              "      <th>...</th>\n",
              "      <th>V21</th>\n",
              "      <th>V22</th>\n",
              "      <th>V23</th>\n",
              "      <th>V24</th>\n",
              "      <th>V25</th>\n",
              "      <th>V26</th>\n",
              "      <th>V27</th>\n",
              "      <th>V28</th>\n",
              "      <th>Amount</th>\n",
              "      <th>Class</th>\n",
              "    </tr>\n",
              "  </thead>\n",
              "  <tbody>\n",
              "    <tr>\n",
              "      <th>0</th>\n",
              "      <td>0.0</td>\n",
              "      <td>-1.359807</td>\n",
              "      <td>-0.072781</td>\n",
              "      <td>2.536347</td>\n",
              "      <td>1.378155</td>\n",
              "      <td>-0.338321</td>\n",
              "      <td>0.462388</td>\n",
              "      <td>0.239599</td>\n",
              "      <td>0.098698</td>\n",
              "      <td>0.363787</td>\n",
              "      <td>...</td>\n",
              "      <td>-0.018307</td>\n",
              "      <td>0.277838</td>\n",
              "      <td>-0.110474</td>\n",
              "      <td>0.066928</td>\n",
              "      <td>0.128539</td>\n",
              "      <td>-0.189115</td>\n",
              "      <td>0.133558</td>\n",
              "      <td>-0.021053</td>\n",
              "      <td>149.62</td>\n",
              "      <td>0</td>\n",
              "    </tr>\n",
              "    <tr>\n",
              "      <th>1</th>\n",
              "      <td>0.0</td>\n",
              "      <td>1.191857</td>\n",
              "      <td>0.266151</td>\n",
              "      <td>0.166480</td>\n",
              "      <td>0.448154</td>\n",
              "      <td>0.060018</td>\n",
              "      <td>-0.082361</td>\n",
              "      <td>-0.078803</td>\n",
              "      <td>0.085102</td>\n",
              "      <td>-0.255425</td>\n",
              "      <td>...</td>\n",
              "      <td>-0.225775</td>\n",
              "      <td>-0.638672</td>\n",
              "      <td>0.101288</td>\n",
              "      <td>-0.339846</td>\n",
              "      <td>0.167170</td>\n",
              "      <td>0.125895</td>\n",
              "      <td>-0.008983</td>\n",
              "      <td>0.014724</td>\n",
              "      <td>2.69</td>\n",
              "      <td>0</td>\n",
              "    </tr>\n",
              "    <tr>\n",
              "      <th>2</th>\n",
              "      <td>1.0</td>\n",
              "      <td>-1.358354</td>\n",
              "      <td>-1.340163</td>\n",
              "      <td>1.773209</td>\n",
              "      <td>0.379780</td>\n",
              "      <td>-0.503198</td>\n",
              "      <td>1.800499</td>\n",
              "      <td>0.791461</td>\n",
              "      <td>0.247676</td>\n",
              "      <td>-1.514654</td>\n",
              "      <td>...</td>\n",
              "      <td>0.247998</td>\n",
              "      <td>0.771679</td>\n",
              "      <td>0.909412</td>\n",
              "      <td>-0.689281</td>\n",
              "      <td>-0.327642</td>\n",
              "      <td>-0.139097</td>\n",
              "      <td>-0.055353</td>\n",
              "      <td>-0.059752</td>\n",
              "      <td>378.66</td>\n",
              "      <td>0</td>\n",
              "    </tr>\n",
              "    <tr>\n",
              "      <th>3</th>\n",
              "      <td>1.0</td>\n",
              "      <td>-0.966272</td>\n",
              "      <td>-0.185226</td>\n",
              "      <td>1.792993</td>\n",
              "      <td>-0.863291</td>\n",
              "      <td>-0.010309</td>\n",
              "      <td>1.247203</td>\n",
              "      <td>0.237609</td>\n",
              "      <td>0.377436</td>\n",
              "      <td>-1.387024</td>\n",
              "      <td>...</td>\n",
              "      <td>-0.108300</td>\n",
              "      <td>0.005274</td>\n",
              "      <td>-0.190321</td>\n",
              "      <td>-1.175575</td>\n",
              "      <td>0.647376</td>\n",
              "      <td>-0.221929</td>\n",
              "      <td>0.062723</td>\n",
              "      <td>0.061458</td>\n",
              "      <td>123.50</td>\n",
              "      <td>0</td>\n",
              "    </tr>\n",
              "    <tr>\n",
              "      <th>4</th>\n",
              "      <td>2.0</td>\n",
              "      <td>-1.158233</td>\n",
              "      <td>0.877737</td>\n",
              "      <td>1.548718</td>\n",
              "      <td>0.403034</td>\n",
              "      <td>-0.407193</td>\n",
              "      <td>0.095921</td>\n",
              "      <td>0.592941</td>\n",
              "      <td>-0.270533</td>\n",
              "      <td>0.817739</td>\n",
              "      <td>...</td>\n",
              "      <td>-0.009431</td>\n",
              "      <td>0.798278</td>\n",
              "      <td>-0.137458</td>\n",
              "      <td>0.141267</td>\n",
              "      <td>-0.206010</td>\n",
              "      <td>0.502292</td>\n",
              "      <td>0.219422</td>\n",
              "      <td>0.215153</td>\n",
              "      <td>69.99</td>\n",
              "      <td>0</td>\n",
              "    </tr>\n",
              "  </tbody>\n",
              "</table>\n",
              "<p>5 rows × 31 columns</p>\n",
              "</div>\n",
              "      <button class=\"colab-df-convert\" onclick=\"convertToInteractive('df-67f5bc66-eeff-48d6-867f-eef423c2ea21')\"\n",
              "              title=\"Convert this dataframe to an interactive table.\"\n",
              "              style=\"display:none;\">\n",
              "        \n",
              "  <svg xmlns=\"http://www.w3.org/2000/svg\" height=\"24px\"viewBox=\"0 0 24 24\"\n",
              "       width=\"24px\">\n",
              "    <path d=\"M0 0h24v24H0V0z\" fill=\"none\"/>\n",
              "    <path d=\"M18.56 5.44l.94 2.06.94-2.06 2.06-.94-2.06-.94-.94-2.06-.94 2.06-2.06.94zm-11 1L8.5 8.5l.94-2.06 2.06-.94-2.06-.94L8.5 2.5l-.94 2.06-2.06.94zm10 10l.94 2.06.94-2.06 2.06-.94-2.06-.94-.94-2.06-.94 2.06-2.06.94z\"/><path d=\"M17.41 7.96l-1.37-1.37c-.4-.4-.92-.59-1.43-.59-.52 0-1.04.2-1.43.59L10.3 9.45l-7.72 7.72c-.78.78-.78 2.05 0 2.83L4 21.41c.39.39.9.59 1.41.59.51 0 1.02-.2 1.41-.59l7.78-7.78 2.81-2.81c.8-.78.8-2.07 0-2.86zM5.41 20L4 18.59l7.72-7.72 1.47 1.35L5.41 20z\"/>\n",
              "  </svg>\n",
              "      </button>\n",
              "      \n",
              "  <style>\n",
              "    .colab-df-container {\n",
              "      display:flex;\n",
              "      flex-wrap:wrap;\n",
              "      gap: 12px;\n",
              "    }\n",
              "\n",
              "    .colab-df-convert {\n",
              "      background-color: #E8F0FE;\n",
              "      border: none;\n",
              "      border-radius: 50%;\n",
              "      cursor: pointer;\n",
              "      display: none;\n",
              "      fill: #1967D2;\n",
              "      height: 32px;\n",
              "      padding: 0 0 0 0;\n",
              "      width: 32px;\n",
              "    }\n",
              "\n",
              "    .colab-df-convert:hover {\n",
              "      background-color: #E2EBFA;\n",
              "      box-shadow: 0px 1px 2px rgba(60, 64, 67, 0.3), 0px 1px 3px 1px rgba(60, 64, 67, 0.15);\n",
              "      fill: #174EA6;\n",
              "    }\n",
              "\n",
              "    [theme=dark] .colab-df-convert {\n",
              "      background-color: #3B4455;\n",
              "      fill: #D2E3FC;\n",
              "    }\n",
              "\n",
              "    [theme=dark] .colab-df-convert:hover {\n",
              "      background-color: #434B5C;\n",
              "      box-shadow: 0px 1px 3px 1px rgba(0, 0, 0, 0.15);\n",
              "      filter: drop-shadow(0px 1px 2px rgba(0, 0, 0, 0.3));\n",
              "      fill: #FFFFFF;\n",
              "    }\n",
              "  </style>\n",
              "\n",
              "      <script>\n",
              "        const buttonEl =\n",
              "          document.querySelector('#df-67f5bc66-eeff-48d6-867f-eef423c2ea21 button.colab-df-convert');\n",
              "        buttonEl.style.display =\n",
              "          google.colab.kernel.accessAllowed ? 'block' : 'none';\n",
              "\n",
              "        async function convertToInteractive(key) {\n",
              "          const element = document.querySelector('#df-67f5bc66-eeff-48d6-867f-eef423c2ea21');\n",
              "          const dataTable =\n",
              "            await google.colab.kernel.invokeFunction('convertToInteractive',\n",
              "                                                     [key], {});\n",
              "          if (!dataTable) return;\n",
              "\n",
              "          const docLinkHtml = 'Like what you see? Visit the ' +\n",
              "            '<a target=\"_blank\" href=https://colab.research.google.com/notebooks/data_table.ipynb>data table notebook</a>'\n",
              "            + ' to learn more about interactive tables.';\n",
              "          element.innerHTML = '';\n",
              "          dataTable['output_type'] = 'display_data';\n",
              "          await google.colab.output.renderOutput(dataTable, element);\n",
              "          const docLink = document.createElement('div');\n",
              "          docLink.innerHTML = docLinkHtml;\n",
              "          element.appendChild(docLink);\n",
              "        }\n",
              "      </script>\n",
              "    </div>\n",
              "  </div>\n",
              "  "
            ]
          },
          "metadata": {}
        },
        {
          "output_type": "stream",
          "name": "stdout",
          "text": [
            "Time      0\n",
            "V1        0\n",
            "V2        0\n",
            "V3        0\n",
            "V4        0\n",
            "V5        0\n",
            "V6        0\n",
            "V7        0\n",
            "V8        0\n",
            "V9        0\n",
            "V10       0\n",
            "V11       0\n",
            "V12       0\n",
            "V13       0\n",
            "V14       0\n",
            "V15       0\n",
            "V16       0\n",
            "V17       0\n",
            "V18       0\n",
            "V19       0\n",
            "V20       0\n",
            "V21       0\n",
            "V22       0\n",
            "V23       0\n",
            "V24       0\n",
            "V25       0\n",
            "V26       0\n",
            "V27       0\n",
            "V28       0\n",
            "Amount    0\n",
            "Class     0\n",
            "dtype: int64\n"
          ]
        }
      ]
    },
    {
      "cell_type": "markdown",
      "source": [
        "Mãos a obra, vamos checar nosso resumo estatístico. Como podemos verificar, a média das transações realizadas é de cerca de *💲88*, e sua maior transação foi registrada no valor de *💲25691* 💸 "
      ],
      "metadata": {
        "id": "w8StoemSWCiK"
      }
    },
    {
      "cell_type": "code",
      "source": [
        "# resumo estatistico \n",
        "df[['Time', 'Amount' ]].describe()"
      ],
      "metadata": {
        "colab": {
          "base_uri": "https://localhost:8080/",
          "height": 300
        },
        "id": "tWXo1IFvqzpb",
        "outputId": "63261cf1-6834-469b-ba4e-fa5c76d43e3a"
      },
      "execution_count": null,
      "outputs": [
        {
          "output_type": "execute_result",
          "data": {
            "text/plain": [
              "                Time         Amount\n",
              "count  284807.000000  284807.000000\n",
              "mean    94813.859575      88.349619\n",
              "std     47488.145955     250.120109\n",
              "min         0.000000       0.000000\n",
              "25%     54201.500000       5.600000\n",
              "50%     84692.000000      22.000000\n",
              "75%    139320.500000      77.165000\n",
              "max    172792.000000   25691.160000"
            ],
            "text/html": [
              "\n",
              "  <div id=\"df-8266a734-1254-4b5e-b0f0-91e4f5bb4c30\">\n",
              "    <div class=\"colab-df-container\">\n",
              "      <div>\n",
              "<style scoped>\n",
              "    .dataframe tbody tr th:only-of-type {\n",
              "        vertical-align: middle;\n",
              "    }\n",
              "\n",
              "    .dataframe tbody tr th {\n",
              "        vertical-align: top;\n",
              "    }\n",
              "\n",
              "    .dataframe thead th {\n",
              "        text-align: right;\n",
              "    }\n",
              "</style>\n",
              "<table border=\"1\" class=\"dataframe\">\n",
              "  <thead>\n",
              "    <tr style=\"text-align: right;\">\n",
              "      <th></th>\n",
              "      <th>Time</th>\n",
              "      <th>Amount</th>\n",
              "    </tr>\n",
              "  </thead>\n",
              "  <tbody>\n",
              "    <tr>\n",
              "      <th>count</th>\n",
              "      <td>284807.000000</td>\n",
              "      <td>284807.000000</td>\n",
              "    </tr>\n",
              "    <tr>\n",
              "      <th>mean</th>\n",
              "      <td>94813.859575</td>\n",
              "      <td>88.349619</td>\n",
              "    </tr>\n",
              "    <tr>\n",
              "      <th>std</th>\n",
              "      <td>47488.145955</td>\n",
              "      <td>250.120109</td>\n",
              "    </tr>\n",
              "    <tr>\n",
              "      <th>min</th>\n",
              "      <td>0.000000</td>\n",
              "      <td>0.000000</td>\n",
              "    </tr>\n",
              "    <tr>\n",
              "      <th>25%</th>\n",
              "      <td>54201.500000</td>\n",
              "      <td>5.600000</td>\n",
              "    </tr>\n",
              "    <tr>\n",
              "      <th>50%</th>\n",
              "      <td>84692.000000</td>\n",
              "      <td>22.000000</td>\n",
              "    </tr>\n",
              "    <tr>\n",
              "      <th>75%</th>\n",
              "      <td>139320.500000</td>\n",
              "      <td>77.165000</td>\n",
              "    </tr>\n",
              "    <tr>\n",
              "      <th>max</th>\n",
              "      <td>172792.000000</td>\n",
              "      <td>25691.160000</td>\n",
              "    </tr>\n",
              "  </tbody>\n",
              "</table>\n",
              "</div>\n",
              "      <button class=\"colab-df-convert\" onclick=\"convertToInteractive('df-8266a734-1254-4b5e-b0f0-91e4f5bb4c30')\"\n",
              "              title=\"Convert this dataframe to an interactive table.\"\n",
              "              style=\"display:none;\">\n",
              "        \n",
              "  <svg xmlns=\"http://www.w3.org/2000/svg\" height=\"24px\"viewBox=\"0 0 24 24\"\n",
              "       width=\"24px\">\n",
              "    <path d=\"M0 0h24v24H0V0z\" fill=\"none\"/>\n",
              "    <path d=\"M18.56 5.44l.94 2.06.94-2.06 2.06-.94-2.06-.94-.94-2.06-.94 2.06-2.06.94zm-11 1L8.5 8.5l.94-2.06 2.06-.94-2.06-.94L8.5 2.5l-.94 2.06-2.06.94zm10 10l.94 2.06.94-2.06 2.06-.94-2.06-.94-.94-2.06-.94 2.06-2.06.94z\"/><path d=\"M17.41 7.96l-1.37-1.37c-.4-.4-.92-.59-1.43-.59-.52 0-1.04.2-1.43.59L10.3 9.45l-7.72 7.72c-.78.78-.78 2.05 0 2.83L4 21.41c.39.39.9.59 1.41.59.51 0 1.02-.2 1.41-.59l7.78-7.78 2.81-2.81c.8-.78.8-2.07 0-2.86zM5.41 20L4 18.59l7.72-7.72 1.47 1.35L5.41 20z\"/>\n",
              "  </svg>\n",
              "      </button>\n",
              "      \n",
              "  <style>\n",
              "    .colab-df-container {\n",
              "      display:flex;\n",
              "      flex-wrap:wrap;\n",
              "      gap: 12px;\n",
              "    }\n",
              "\n",
              "    .colab-df-convert {\n",
              "      background-color: #E8F0FE;\n",
              "      border: none;\n",
              "      border-radius: 50%;\n",
              "      cursor: pointer;\n",
              "      display: none;\n",
              "      fill: #1967D2;\n",
              "      height: 32px;\n",
              "      padding: 0 0 0 0;\n",
              "      width: 32px;\n",
              "    }\n",
              "\n",
              "    .colab-df-convert:hover {\n",
              "      background-color: #E2EBFA;\n",
              "      box-shadow: 0px 1px 2px rgba(60, 64, 67, 0.3), 0px 1px 3px 1px rgba(60, 64, 67, 0.15);\n",
              "      fill: #174EA6;\n",
              "    }\n",
              "\n",
              "    [theme=dark] .colab-df-convert {\n",
              "      background-color: #3B4455;\n",
              "      fill: #D2E3FC;\n",
              "    }\n",
              "\n",
              "    [theme=dark] .colab-df-convert:hover {\n",
              "      background-color: #434B5C;\n",
              "      box-shadow: 0px 1px 3px 1px rgba(0, 0, 0, 0.15);\n",
              "      filter: drop-shadow(0px 1px 2px rgba(0, 0, 0, 0.3));\n",
              "      fill: #FFFFFF;\n",
              "    }\n",
              "  </style>\n",
              "\n",
              "      <script>\n",
              "        const buttonEl =\n",
              "          document.querySelector('#df-8266a734-1254-4b5e-b0f0-91e4f5bb4c30 button.colab-df-convert');\n",
              "        buttonEl.style.display =\n",
              "          google.colab.kernel.accessAllowed ? 'block' : 'none';\n",
              "\n",
              "        async function convertToInteractive(key) {\n",
              "          const element = document.querySelector('#df-8266a734-1254-4b5e-b0f0-91e4f5bb4c30');\n",
              "          const dataTable =\n",
              "            await google.colab.kernel.invokeFunction('convertToInteractive',\n",
              "                                                     [key], {});\n",
              "          if (!dataTable) return;\n",
              "\n",
              "          const docLinkHtml = 'Like what you see? Visit the ' +\n",
              "            '<a target=\"_blank\" href=https://colab.research.google.com/notebooks/data_table.ipynb>data table notebook</a>'\n",
              "            + ' to learn more about interactive tables.';\n",
              "          element.innerHTML = '';\n",
              "          dataTable['output_type'] = 'display_data';\n",
              "          await google.colab.output.renderOutput(dataTable, element);\n",
              "          const docLink = document.createElement('div');\n",
              "          docLink.innerHTML = docLinkHtml;\n",
              "          element.appendChild(docLink);\n",
              "        }\n",
              "      </script>\n",
              "    </div>\n",
              "  </div>\n",
              "  "
            ]
          },
          "metadata": {},
          "execution_count": 85
        }
      ]
    },
    {
      "cell_type": "markdown",
      "source": [
        "Segundo as estatísticas, a classe majoritária é a de transações normais, onde ocorre em *284315* das *284807* registradas no nosso dataset. Temos um dataset extremamente desbalanceado. Poderemos verificar com o gráfico abaixo a dimensão do desbalanceamento."
      ],
      "metadata": {
        "id": "y11liP1-VfER"
      }
    },
    {
      "cell_type": "code",
      "source": [
        "df['Class'].astype('object').describe()\n"
      ],
      "metadata": {
        "colab": {
          "base_uri": "https://localhost:8080/"
        },
        "id": "qdw5HpwUSmKs",
        "outputId": "29b9abfe-4993-457f-f1b0-e06a8824864a"
      },
      "execution_count": null,
      "outputs": [
        {
          "output_type": "execute_result",
          "data": {
            "text/plain": [
              "count     284807\n",
              "unique         2\n",
              "top            0\n",
              "freq      284315\n",
              "Name: Class, dtype: int64"
            ]
          },
          "metadata": {},
          "execution_count": 86
        }
      ]
    },
    {
      "cell_type": "code",
      "source": [
        "print(\"\\nFraudes representam {:.3f}% do dataset.\\n\".format((df[df.Class == 1].shape[0] / df.shape[0]) * 100))\n",
        "# Gráfico de barras para ver o balanceamento do dataset\n",
        "\n",
        "sns.set()\n",
        "x_transacoes_fraude = df.Class.value_counts().index\n",
        "y_transacoes_fraude = df.Class.value_counts().values\n",
        "\n",
        "fig, ax = plt.subplots(figsize=(8, 4))\n",
        "\n",
        "sns.barplot(x=x_transacoes_fraude, y=y_transacoes_fraude)\n",
        "\n",
        "ax.set_title('Quantidade da amostra de transações fraudulentas e transações normais')\n",
        "ax.set_xlabel('Transações Normais e Transações Fraudulentas')\n",
        "ax.set_ylabel('Quantidade')\n",
        "\n",
        "plt.tight_layout();"
      ],
      "metadata": {
        "colab": {
          "base_uri": "https://localhost:8080/",
          "height": 345
        },
        "id": "ijKLtL_cFlwL",
        "outputId": "b2956e4a-181c-408e-d2c1-9536188a6716"
      },
      "execution_count": null,
      "outputs": [
        {
          "output_type": "stream",
          "name": "stdout",
          "text": [
            "\n",
            "Fraudes representam 0.173% do dataset.\n",
            "\n"
          ]
        },
        {
          "output_type": "display_data",
          "data": {
            "text/plain": [
              "<Figure size 576x288 with 1 Axes>"
            ],
            "image/png": "[encoded data removed]"
          },
          "metadata": {}
        }
      ]
    },
    {
      "cell_type": "code",
      "source": [
        "df['Class'].value_counts().plot.pie(autopct='%.2f');"
      ],
      "metadata": {
        "colab": {
          "base_uri": "https://localhost:8080/",
          "height": 248
        },
        "id": "eRWHTCJMObWZ",
        "outputId": "80504f43-1233-404f-9e06-f85da02bc7ef"
      },
      "execution_count": null,
      "outputs": [
        {
          "output_type": "display_data",
          "data": {
            "text/plain": [
              "<Figure size 432x288 with 1 Axes>"
            ],
            "image/png": "[encoded data removed]"
          },
          "metadata": {}
        }
      ]
    },
    {
      "cell_type": "markdown",
      "source": [
        "Nossa! 😱\n",
        "Esse dataset realmente está desbalanceado! Nem conseguimos visualizar a classe 1 que representa as transações fraudulentas. Como calculamos, as fraudes representam 0.173% do dataset"
      ],
      "metadata": {
        "id": "udwoKS0nGoSM"
      }
    },
    {
      "cell_type": "markdown",
      "source": [
        "Plotou-se também dois gráficos a fim de comparar as distribuições das 2 classes ao longo da dimensão tempo (Time). No entanto, não foi identificada nenhum informação a partir das distribuições de frequência abaixo."
      ],
      "metadata": {
        "id": "XBsP2Uree5ep"
      }
    },
    {
      "cell_type": "code",
      "source": [
        "fig, ax = plt.subplots(nrows=2, ncols=1, figsize=(8,4))\n",
        "\n",
        "num_bins = 40\n",
        "\n",
        "ax[0].hist(df.Time[df.Class == 0], bins=num_bins)\n",
        "\n",
        "ax[0].set_title('Normal')\n",
        "\n",
        "ax[1].hist(df.Time[df.Class == 1], bins=num_bins)\n",
        "ax[1].set_title('Fraude')\n",
        "\n",
        "plt.xlabel('Tempo (segundos)')\n",
        "plt.ylabel('Transações')\n",
        "plt.tight_layout()"
      ],
      "metadata": {
        "colab": {
          "base_uri": "https://localhost:8080/",
          "height": 293
        },
        "id": "EQbH6aQIaKKO",
        "outputId": "774f4b38-bc61-42c4-e2f8-9c93b8eea47f"
      },
      "execution_count": null,
      "outputs": [
        {
          "output_type": "display_data",
          "data": {
            "text/plain": [
              "<Figure size 576x288 with 2 Axes>"
            ],
            "image/png": "[encoded data removed]"
          },
          "metadata": {}
        }
      ]
    },
    {
      "cell_type": "markdown",
      "source": [
        "Seguindo a análise exploratória, plotou-se os boxplots para ver se há alguma diferença no padrão transações em relação à dimensão Amount.\n",
        "\n",
        "De uma maneira geral, percebe-se uma distribuição diferente para as duas classes, o que provavelmente irá nos ajudar para o treinamento do modelo de machine learning."
      ],
      "metadata": {
        "id": "se7ZuKyqkoME"
      }
    },
    {
      "cell_type": "code",
      "source": [
        "# Plotar um boxplot para a variável Amount quando houve fraude (Class == 1)\n",
        "fig, ax = plt.subplots(figsize=(6,10), sharex=True)\n",
        "\n",
        "sns.boxplot(df.Class, df.Amount, showmeans=True, ax=ax)\n",
        "plt.ylim((-20, 400))\n",
        "plt.xticks([0, 1], ['Normal', 'Fraude'])\n",
        "\n",
        "plt.tight_layout()"
      ],
      "metadata": {
        "colab": {
          "base_uri": "https://localhost:8080/",
          "height": 780
        },
        "id": "aVZsO9ixh2cQ",
        "outputId": "69f7f264-5b09-4ba3-ca6d-8c7f0e93c90c"
      },
      "execution_count": null,
      "outputs": [
        {
          "output_type": "stream",
          "name": "stderr",
          "text": [
            "/usr/local/lib/python3.8/dist-packages/seaborn/_decorators.py:36: FutureWarning: Pass the following variables as keyword args: x, y. From version 0.12, the only valid positional argument will be `data`, and passing other arguments without an explicit keyword will result in an error or misinterpretation.\n",
            "  warnings.warn(\n"
          ]
        },
        {
          "output_type": "display_data",
          "data": {
            "text/plain": [
              "<Figure size 432x720 with 1 Axes>"
            ],
            "image/png": "[encoded data removed]"
          },
          "metadata": {}
        }
      ]
    },
    {
      "cell_type": "markdown",
      "source": [
        "As informações estatísticas para `df.Class == 1` mostram que a sua média exata está em 122.21 e a mediana em 9.25."
      ],
      "metadata": {
        "id": "lG3mMk7OlYe-"
      }
    },
    {
      "cell_type": "code",
      "source": [
        "df[(df.Class == 1)]['Amount'].describe()"
      ],
      "metadata": {
        "colab": {
          "base_uri": "https://localhost:8080/"
        },
        "id": "vXGPlpZFlPZb",
        "outputId": "774a4d03-5347-43fc-e57a-fb1d8863187a"
      },
      "execution_count": null,
      "outputs": [
        {
          "output_type": "execute_result",
          "data": {
            "text/plain": [
              "count     492.000000\n",
              "mean      122.211321\n",
              "std       256.683288\n",
              "min         0.000000\n",
              "25%         1.000000\n",
              "50%         9.250000\n",
              "75%       105.890000\n",
              "max      2125.870000\n",
              "Name: Amount, dtype: float64"
            ]
          },
          "metadata": {},
          "execution_count": 91
        }
      ]
    },
    {
      "cell_type": "markdown",
      "source": [
        "Foi plotado uma matriz de correlação afim de verificar as variáveis que possuem maiores correlações entre si. Vale a pena ressaltar algumas variáveis que possuem uma maior correlação com a nossa variável alvo 'Class', que podem ser correlacionadas positivamente(como a v2, v4 e v11) e também negativamente(como v7, v10, v12, v14, v16 e v17)"
      ],
      "metadata": {
        "id": "HyC8V1-YquWE"
      }
    },
    {
      "cell_type": "code",
      "source": [
        "mask = np.triu(df.corr())\n",
        "\n",
        "fig, ax = plt.subplots(figsize=(9, 6))\n",
        "sns.heatmap(df.corr(), vmin=-1, vmax=1, cmap='coolwarm', mask=mask)\n",
        "\n",
        "plt.tight_layout()"
      ],
      "metadata": {
        "colab": {
          "base_uri": "https://localhost:8080/",
          "height": 437
        },
        "id": "GXpJxNFxnS1j",
        "outputId": "b4b78f40-39e2-4603-8d91-6b37b85ffca3"
      },
      "execution_count": null,
      "outputs": [
        {
          "output_type": "display_data",
          "data": {
            "text/plain": [
              "<Figure size 648x432 with 2 Axes>"
            ],
            "image/png": "[encoded data removed]"
          },
          "metadata": {}
        }
      ]
    },
    {
      "cell_type": "markdown",
      "source": [
        "Resumidamente, algumas observações principais que puderam ser extraídas dessa etapa exploratória foram:\n",
        "\n",
        "* O *dataset* está muito desbalanceado, uma vez que as transações fraudulentas representam apenas 0,17% das entradas totais.\n",
        "* Não existem valores ausentes ou nulos no *dataframe*.\n"
      ],
      "metadata": {
        "id": "2jh0IRONtGTD"
      }
    },
    {
      "cell_type": "markdown",
      "metadata": {
        "id": "ULe7z0jZt0EH"
      },
      "source": [
        "***\n",
        "***\n",
        "## **Preparação dos Dados** <img src=\"https://cdn-icons-png.flaticon.com/512/2644/2644373.png\" width=\"3%\">\n",
        "***\n",
        "***\n"
      ]
    },
    {
      "cell_type": "markdown",
      "source": [
        "Agora vamos preparar nossos dados para que eles tenham o formato correto para o algorítimo de machine learning consiga entender. Primeiramente vamos separar a variável alvo(que queremos prever) das demais, que chamamos de variáveis preditivas."
      ],
      "metadata": {
        "id": "EmW04HKo3ONX"
      }
    },
    {
      "cell_type": "code",
      "source": [
        "# definindo nosso X e nosso y(variável alvo)\n",
        "y= df['Class']\n",
        "X_full = df.drop(['Class'], axis=1, inplace=False)\n"
      ],
      "metadata": {
        "id": "ak-HJJAyUt-z"
      },
      "execution_count": null,
      "outputs": []
    },
    {
      "cell_type": "markdown",
      "source": [
        "Agora, vamos separar os dados de treino e os dados de teste. Para isso, usei a função train_test_split da biblioteca scikit-learn, uma das mais famosas no ambito de Machine Learning. Separando a base de treino e de teste, configurei o test size em 25%, ou seja, 75% do dataset será utilizado para o algorítimo aprender e 25% para testar o quão esse algorítimo aprendeu de fato."
      ],
      "metadata": {
        "id": "DUo1CsN6GvUi"
      }
    },
    {
      "cell_type": "code",
      "source": [
        "# Fazendo separação dos dados de treino e dos dados de teste\n",
        "X_train, X_test, y_train, y_test = train_test_split(X_full, y, test_size=0.25, \n",
        "                                                    stratify=y,\n",
        "                                                    random_state=42)"
      ],
      "metadata": {
        "id": "eoU06CLg_pmF"
      },
      "execution_count": null,
      "outputs": []
    },
    {
      "cell_type": "code",
      "metadata": {
        "id": "IqfjG_SUSTi-",
        "colab": {
          "base_uri": "https://localhost:8080/"
        },
        "outputId": "058e9fe7-dd1e-4009-fa06-8c2c9c90f2fe"
      },
      "source": [
        "y_train.value_counts()/ y_train.shape[0]\n",
        "y_train.value_counts()"
      ],
      "execution_count": null,
      "outputs": [
        {
          "output_type": "execute_result",
          "data": {
            "text/plain": [
              "0    213236\n",
              "1       369\n",
              "Name: Class, dtype: int64"
            ]
          },
          "metadata": {},
          "execution_count": 95
        }
      ]
    },
    {
      "cell_type": "markdown",
      "source": [
        "Porém, como o dataset está desbalanceado, há uma tendência que o algorítimo aprenda mais sobre a classe majoritária que a classe minoritária. Isso, consequentemente, fará com que a classe majoritária tenha uma excelente acurácia, e a classe minoritária tenha uma acurácia bem ruim, tendendo a prever erroneamente a classe que possui mais amostras. No nosso caso, iria acontecer de que muitas transações fraudulentas irial ser previstas como transações normais, acarretando prejuízos para a instituição financeira.\n",
        "\n",
        "Para resolver isso, vamos usar a técnica de *undersampling*, que consiste em pegar amostras aleatórias da classe majoritária e igualar em número a classe minoritária. Para isso, usamos a classe *RandomUnderSampler* do pacote *imbalanced-learn*.\n"
      ],
      "metadata": {
        "id": "tfRzTJ8PHmrF"
      }
    },
    {
      "cell_type": "code",
      "source": [
        "# Definindo o UnderSamplere e aplicando para o x e o y de treino\n",
        "rus = RandomUnderSampler(random_state=42)\n",
        "X_res, y_res = rus.fit_resample(X_train, y_train)\n",
        "\n",
        "print(y_res.value_counts())"
      ],
      "metadata": {
        "colab": {
          "base_uri": "https://localhost:8080/"
        },
        "id": "N8eq9d4WXcJ8",
        "outputId": "fedbcab5-a0cf-49cd-e406-c4ba468b9b45"
      },
      "execution_count": null,
      "outputs": [
        {
          "output_type": "stream",
          "name": "stdout",
          "text": [
            "0    369\n",
            "1    369\n",
            "Name: Class, dtype: int64\n"
          ]
        }
      ]
    },
    {
      "cell_type": "markdown",
      "source": [
        "Vale a pena ressaltar, esses dados que usamos o undersampling, será utilizado apenas para treinar nosso modelo, mas na hora de validar, usaremos os dados de validação normal. Se utilizarmos esses mesmos dados agora balanceados para fazer a validação, estaremos distorcendo a realidade, pois na vida real acontece bem mais transações normais do que transações fraudulentas, e isso acarretaria numa má validação do nosso modelo. Isso poderia acarretar prejuízo enorme. "
      ],
      "metadata": {
        "id": "9qhHcPRtMi3I"
      }
    },
    {
      "cell_type": "markdown",
      "metadata": {
        "id": "wJNH5qcjRxfX"
      },
      "source": [
        "***\n",
        "***\n",
        "## **Modelo de Machine Learning** <img src=\"https://cdn-icons-png.flaticon.com/512/3273/3273713.png\" width=\"3%\">\n",
        "***\n",
        "***\n"
      ]
    },
    {
      "cell_type": "markdown",
      "source": [
        "Decidi testar 4 algorítimo bem conhecidos em problemas de classificação.\n",
        "\n",
        "\n",
        "\n",
        "*   Random Forest\n",
        "*   SVC linear\n",
        "*   XGBoost\n",
        "\n",
        "Vamos realizar o pipeline de cada modelo, onde primeiro fazemos o dimensionamento dos dados com o StandardScaler(), assim deixando todas as colunas na mesma escala. Após isso fazemos o fit(ajuste) com o algorítimo que escolhemos, e fazemos a predição com os dados de teste."
      ],
      "metadata": {
        "id": "LvgXKwR8cPfo"
      }
    },
    {
      "cell_type": "markdown",
      "source": [
        "### Random Forest"
      ],
      "metadata": {
        "id": "kGUR-yLDCjta"
      }
    },
    {
      "cell_type": "code",
      "source": [
        "# Criar um objeto de pipeline para o modelo Random Forest\n",
        "pipeline_random_forest = Pipeline([\n",
        "     ('scaler', StandardScaler()),       \n",
        "     ('Random Forest', RandomForestClassifier(\n",
        "         \n",
        "     ))         \n",
        "])\n",
        "\n",
        "# Ajuste(fit) com X_res e y_res\n",
        "pipeline_random_forest.fit(X_res, y_res)\n",
        "\n",
        "\n",
        "# Obter previsões para X_test e armazenar em y_pred\n",
        "y_pred_randomForest = pipeline_random_forest.predict(X_test)"
      ],
      "metadata": {
        "id": "XLc_fgbyB-CW"
      },
      "execution_count": null,
      "outputs": []
    },
    {
      "cell_type": "markdown",
      "source": [
        "### SVM"
      ],
      "metadata": {
        "id": "XzM78kH2Cw0c"
      }
    },
    {
      "cell_type": "code",
      "metadata": {
        "id": "lDySx8XUSMw_"
      },
      "source": [
        "# Criar um objeto de pipeline para o modelo SVM\n",
        "pipeline_svc = Pipeline([\n",
        "     ('scaler',StandardScaler()),        \n",
        "     ('SVC', SVC(kernel = 'linear'))         \n",
        "])\n",
        "\n",
        "# Ajuste(fit) com X_res e y_res\n",
        "pipeline_svc.fit(X_res, y_res)\n",
        "\n",
        "\n",
        "# Obter previsões para X_test e armazenar em y_pred\n",
        "y_pred_SVC = pipeline_svc.predict(X_test)"
      ],
      "execution_count": null,
      "outputs": []
    },
    {
      "cell_type": "markdown",
      "source": [
        "### XGBoost "
      ],
      "metadata": {
        "id": "bAB2FAymC3p7"
      }
    },
    {
      "cell_type": "code",
      "source": [
        "\n",
        "# Criar um objeto de pipeline para o modelo XGBoost\n",
        "pipeline_xgboost = Pipeline([\n",
        "     ('scaler',StandardScaler()),        \n",
        "     ('xgboost', XGBClassifier(\n",
        "     ))         \n",
        "])\n",
        "\n",
        "# Ajuste(fit) com X_res e y_res\n",
        "pipeline_xgboost.fit(X_res, y_res)\n",
        "\n",
        "\n",
        "# Obter previsões para X_test e armazenar em y_pred\n",
        "y_pred_xgboost = pipeline_xgboost.predict(X_test)"
      ],
      "metadata": {
        "id": "D2wxaciFB-FP"
      },
      "execution_count": null,
      "outputs": []
    },
    {
      "cell_type": "markdown",
      "metadata": {
        "id": "3e4ENOTYSUXi"
      },
      "source": [
        "***\n",
        "***\n",
        "## **Avaliar o desempenho do modelo** <img src=\"https://cdn-icons-png.flaticon.com/512/1721/1721929.png\" width=\"3%\">\n",
        "***\n",
        "***"
      ]
    },
    {
      "cell_type": "markdown",
      "source": [
        "**Random Forest**"
      ],
      "metadata": {
        "id": "9fu3MkF4piDL"
      }
    },
    {
      "cell_type": "code",
      "source": [
        "# plotar a matrix de confusão Random Forest\n",
        "skplt.metrics.plot_confusion_matrix(y_test, y_pred_randomForest, normalize=True)\n",
        "\n",
        "\n",
        "# imprimir relatório de classificação\n",
        "print(\"Relatório de Classificação Random Forest:\\n\", classification_report(y_test, y_pred_randomForest, digits=4))\n",
        "\n",
        "# imprimir a acurácia do modelo\n",
        "print(\"Acurácia Random Forest: {:.4f}\\n\".format(accuracy_score(y_test, y_pred_randomForest)))\n",
        "\n",
        "# imprimir a área sob da curva\n",
        "print(\"AUC Random Forest: {:.4f}\\n\".format(roc_auc_score(y_test, y_pred_randomForest)))"
      ],
      "metadata": {
        "colab": {
          "base_uri": "https://localhost:8080/",
          "height": 548
        },
        "id": "FjiYypso8leU",
        "outputId": "f8290575-d0a8-49c0-e65b-198ed53a361d"
      },
      "execution_count": null,
      "outputs": [
        {
          "output_type": "stream",
          "name": "stdout",
          "text": [
            "Relatório de Classificação Random Forest:\n",
            "               precision    recall  f1-score   support\n",
            "\n",
            "           0     0.9998    0.9773    0.9884     71079\n",
            "           1     0.0632    0.8862    0.1180       123\n",
            "\n",
            "    accuracy                         0.9771     71202\n",
            "   macro avg     0.5315    0.9317    0.5532     71202\n",
            "weighted avg     0.9982    0.9771    0.9869     71202\n",
            "\n",
            "Acurácia Random Forest: 0.9771\n",
            "\n",
            "AUC Random Forest: 0.9317\n",
            "\n"
          ]
        },
        {
          "output_type": "display_data",
          "data": {
            "text/plain": [
              "<Figure size 432x288 with 2 Axes>"
            ],
            "image/png": "[encoded data removed]"
          },
          "metadata": {}
        }
      ]
    },
    {
      "cell_type": "markdown",
      "source": [
        "**SVC**"
      ],
      "metadata": {
        "id": "Jj3SAuXdpmcj"
      }
    },
    {
      "cell_type": "code",
      "source": [
        "# plotar a matrix de confusão\n",
        "skplt.metrics.plot_confusion_matrix(y_test, y_pred_SVC, normalize=True)\n",
        "\n",
        "\n",
        "# imprimir relatório de classificação\n",
        "print(\"Relatório de Classificação SVC:\\n\", classification_report(y_test, y_pred_SVC, digits=4))\n",
        "\n",
        "# imprimir a acurácia do modelo\n",
        "print(\"Acurácia SVC: {:.4f}\\n\".format(accuracy_score(y_test, y_pred_SVC)))\n",
        "\n",
        "# imprimir a área sob da curva\n",
        "print(\"AUC SVC: {:.4f}\\n\".format(roc_auc_score(y_test, y_pred_SVC)))"
      ],
      "metadata": {
        "colab": {
          "base_uri": "https://localhost:8080/",
          "height": 548
        },
        "id": "ALk_RoubQZfU",
        "outputId": "815613cb-162c-441c-c554-709426a952f4"
      },
      "execution_count": null,
      "outputs": [
        {
          "output_type": "stream",
          "name": "stdout",
          "text": [
            "Relatório de Classificação SVC:\n",
            "               precision    recall  f1-score   support\n",
            "\n",
            "           0     0.9998    0.9678    0.9835     71079\n",
            "           1     0.0462    0.9024    0.0880       123\n",
            "\n",
            "    accuracy                         0.9677     71202\n",
            "   macro avg     0.5230    0.9351    0.5357     71202\n",
            "weighted avg     0.9982    0.9677    0.9820     71202\n",
            "\n",
            "Acurácia SVC: 0.9677\n",
            "\n",
            "AUC SVC: 0.9351\n",
            "\n"
          ]
        },
        {
          "output_type": "display_data",
          "data": {
            "text/plain": [
              "<Figure size 432x288 with 2 Axes>"
            ],
            "image/png": "[encoded data removed]"
          },
          "metadata": {}
        }
      ]
    },
    {
      "cell_type": "markdown",
      "source": [
        "**XGBoost**"
      ],
      "metadata": {
        "id": "8KGMv9PtpsDV"
      }
    },
    {
      "cell_type": "code",
      "source": [
        "# plotar a matrix de confusão XGBoost\n",
        "skplt.metrics.plot_confusion_matrix(y_test, y_pred_xgboost, normalize=True)\n",
        "\n",
        "\n",
        "# imprimir relatório de classificação\n",
        "print(\"Relatório de Classificação XGBoost:\\n\", classification_report(y_test, y_pred_xgboost, digits=4))\n",
        "\n",
        "# imprimir a acurácia do modelo\n",
        "print(\"Acurácia XGBoost: {:.4f}\\n\".format(accuracy_score(y_test, y_pred_xgboost)))\n",
        "\n",
        "# imprimir a área sob da curva\n",
        "print(\"AUC XGBoost: {:.4f}\\n\".format(roc_auc_score(y_test, y_pred_xgboost)))"
      ],
      "metadata": {
        "colab": {
          "base_uri": "https://localhost:8080/",
          "height": 548
        },
        "id": "f4ka4lD8Q2IN",
        "outputId": "5e6e9f1c-3bc2-4179-b449-24050cef06ee"
      },
      "execution_count": null,
      "outputs": [
        {
          "output_type": "stream",
          "name": "stdout",
          "text": [
            "Relatório de Classificação XGBoost:\n",
            "               precision    recall  f1-score   support\n",
            "\n",
            "           0     0.9999    0.9556    0.9772     71079\n",
            "           1     0.0345    0.9187    0.0666       123\n",
            "\n",
            "    accuracy                         0.9555     71202\n",
            "   macro avg     0.5172    0.9371    0.5219     71202\n",
            "weighted avg     0.9982    0.9555    0.9756     71202\n",
            "\n",
            "Acurácia XGBoost: 0.9555\n",
            "\n",
            "AUC XGBoost: 0.9371\n",
            "\n"
          ]
        },
        {
          "output_type": "display_data",
          "data": {
            "text/plain": [
              "<Figure size 432x288 with 2 Axes>"
            ],
            "image/png": "[encoded data removed]"
          },
          "metadata": {}
        }
      ]
    },
    {
      "cell_type": "markdown",
      "metadata": {
        "id": "0Bj7zRZMSfO7"
      },
      "source": [
        "***\n",
        "***\n",
        "## **Conclusão** <img src=\"https://cdn-icons-png.flaticon.com/512/6863/6863897.png\" width=\"3%\">\n",
        "***\n",
        "***\n"
      ]
    },
    {
      "cell_type": "markdown",
      "source": [
        "\n",
        "Além da acurácia, achamos relevante analizar a AUC(Area Under the Curve) do modelo. O AUC varia entre 0 e 1 e quanto maior o AUC melhor o modelo. \n",
        "\n",
        "AUC é uma métrica melhor para casos em que as classes são bastante desbalanceadas, e sua principal vantagem é poder escolher o melhor ponto de corte para otimizar o desempenho do modelo.\n",
        "\n",
        "\n",
        "* Apesar do modelo Random ter tido a melhor acurácia, teve o pior desempenho nas transações fraudulentas.\n",
        "* Já o modelo XGBoost teve a melhor performance com as transações fraudulentas, porém, o pior desempenho para as transações normais e pior desempenho na acurácia geral. \n",
        "\n",
        "Para a escolha do modelo, eu iria de XGBoost, visto que ele tem a melhor métrica de AUC, indicando que no contexto geral, é o que se sai melhor em relação ao equilíbrio de ambas as classes."
      ],
      "metadata": {
        "id": "GZTCUaQ5lsy8"
      }
    }
  ]
}